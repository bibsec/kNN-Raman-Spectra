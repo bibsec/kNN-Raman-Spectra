{
 "cells": [
  {
   "cell_type": "code",
   "execution_count": 1,
   "metadata": {
    "scrolled": true
   },
   "outputs": [
    {
     "name": "stdout",
     "output_type": "stream",
     "text": [
      "[[array([b'206.000,', b'207.000,', b'208.000,', ..., b'1498.000,',\n",
      "       b'1499.000,', b'1500.000,'], dtype='|S9')\n",
      "  array([0.   , 0.095, 1.313, ..., 0.194, 0.35 , 0.   ])]\n",
      " [array([b'90.587,', b'91.981,', b'93.375,', ..., b'1519.113,',\n",
      "       b'1520.288,', b'1521.463,'], dtype='|S9')\n",
      "  array([ 0.   , 22.571,  0.16 , ...,  0.399, 61.312,  0.   ])]\n",
      " [array([b'97.628,', b'99.023,', b'100.418,', ..., b'1519.443,',\n",
      "       b'1520.616,', b'1521.790,'], dtype='|S9')\n",
      "  array([  0.   ,  39.119,  27.562, ..., 405.005,   0.987,   0.   ])]]\n"
     ]
    },
    {
     "name": "stderr",
     "output_type": "stream",
     "text": [
      "C:\\ProgramData\\Anaconda3\\lib\\site-packages\\numpy\\lib\\npyio.py:2313: VisibleDeprecationWarning: Reading unicode strings without specifying the encoding argument is deprecated. Set the encoding, use None for the system default.\n",
      "  output = genfromtxt(fname, **kwargs)\n"
     ]
    }
   ],
   "source": [
    "import numpy as np\n",
    "import matplotlib.pyplot as plt\n",
    "from matplotlib.colors import ListedColormap\n",
    "from sklearn import neighbors, datasets\n",
    "from sklearn import preprocessing\n",
    "from sklearn.neighbors import KNeighborsClassifier\n",
    "from sklearn.model_selection import train_test_split\n",
    "from sklearn.preprocessing import StandardScaler\n",
    "\n",
    "\n",
    "\n",
    "n_neighbors = 5\n",
    "\n",
    "\n",
    "\n",
    "# import some data to play with\n",
    "epsomite = \"https://rruff.info/repository/sample_child_record_raman/by_minerals/Epsomite__X050074__Raman__785__0__unoriented__Raman_Data_Processed__6540.txt\"\n",
    "scdat = np.recfromtxt(epsomite, names=['Raman_shift', 'intensity'])\n",
    "intensity = scdat.intensity\n",
    "#print(intensity)\n",
    "raman = scdat.Raman_shift\n",
    "\n",
    "\n",
    "\n",
    "calcite = \"https://rruff.info/tmp_rruff/Calcite__R040070-3__Raman__514__0__depolarized__Raman_Data_Processed__11617.rruff\"\n",
    "scdat1 = np.recfromtxt(calcite, names=['Raman_shift', 'intensity'])\n",
    "intensity1 = scdat1.intensity\n",
    "#print(intensity)\n",
    "raman1 = scdat1.Raman_shift\n",
    "\n",
    "\n",
    "\n",
    "fluorite = \"https://rruff.info/tmp_rruff/Fluorite__R050115-3__Raman__514__0__depolarized__Raman_Data_Processed__5427.rruff\"\n",
    "scdat2 = np.recfromtxt(fluorite, names=['Raman_shift', 'intensity'])\n",
    "intensity2 = scdat2.intensity\n",
    "#print(intensity)\n",
    "raman2 = scdat2.Raman_shift\n",
    "\n",
    "\n",
    "\n",
    "#a = np.array([[raman, raman1, raman2], [intensity, intensity1, intensity2]])\n",
    "a = np.array([[raman, intensity], [raman1, intensity1], [raman2, intensity2]], dtype=object)\n",
    "print(a)\n",
    "    \n",
    "\n",
    "X = a[:, :1]\n",
    "y = a[1]\n",
    "#print(X)\n",
    "#print(y)\n",
    "\n",
    "\n",
    "X = a[:, 1]\n",
    "y = a[:, 1]\n",
    "\n",
    "\n",
    "X_train, X_test, y_train, y_test = train_test_split(X, y, test_size=0.20)\n",
    "\n",
    "\n",
    "\n",
    "classifier = KNeighborsClassifier(n_neighbors=5)\n",
    "#classifier.fit(X_train, y_train)\n",
    "\n",
    "\n",
    "\n",
    "\n",
    "\n",
    "\n",
    "\n",
    "\n",
    "\n",
    "\n"
   ]
  },
  {
   "cell_type": "code",
   "execution_count": null,
   "metadata": {},
   "outputs": [],
   "source": []
  },
  {
   "cell_type": "code",
   "execution_count": null,
   "metadata": {},
   "outputs": [],
   "source": []
  }
 ],
 "metadata": {
  "kernelspec": {
   "display_name": "Python 3",
   "language": "python",
   "name": "python3"
  },
  "language_info": {
   "codemirror_mode": {
    "name": "ipython",
    "version": 3
   },
   "file_extension": ".py",
   "mimetype": "text/x-python",
   "name": "python",
   "nbconvert_exporter": "python",
   "pygments_lexer": "ipython3",
   "version": "3.8.5"
  }
 },
 "nbformat": 4,
 "nbformat_minor": 4
}
